{
 "cells": [
  {
   "cell_type": "code",
   "execution_count": 0,
   "metadata": {
    "application/vnd.databricks.v1+cell": {
     "cellMetadata": {},
     "inputWidgets": {},
     "nuid": "4ce63cbb-edda-4c14-92a5-25a516e89520",
     "showTitle": false,
     "tableResultSettingsMap": {},
     "title": ""
    }
   },
   "outputs": [],
   "source": [
    "# If using Azure, as uploading file not possible at the moment on Azure using Databricks instead\n",
    "# storage_account_name = \"your_storage_account\"\n",
    "# container_name = \"raw-data\"\n",
    "# sas_token = \"your_sas_token\"\n",
    "# mount_point = f\"/mnt/{container_name}\"\n",
    "# dbutils.fs.mount(\n",
    "#     source=f\"wasbs://{container_name}@{storage_account_name}.blob.core.windows.net\",\n",
    "#     mount_point=mount_point,\n",
    "#     extra_configs={f\"fs.azure.sas.{container_name}.{storage_account_name}.blob.core.windows.net\": sas_token}\n",
    "# )\n"
   ]
  },
  {
   "cell_type": "code",
   "execution_count": 0,
   "metadata": {
    "application/vnd.databricks.v1+cell": {
     "cellMetadata": {
      "byteLimit": 2048000,
      "rowLimit": 10000
     },
     "inputWidgets": {},
     "nuid": "8c40323f-9389-41f5-858e-dec99ce92794",
     "showTitle": false,
     "tableResultSettingsMap": {},
     "title": ""
    }
   },
   "outputs": [
    {
     "output_type": "display_data",
     "data": {
      "text/html": [
       "<style scoped>\n",
       "  .table-result-container {\n",
       "    max-height: 300px;\n",
       "    overflow: auto;\n",
       "  }\n",
       "  table, th, td {\n",
       "    border: 1px solid black;\n",
       "    border-collapse: collapse;\n",
       "  }\n",
       "  th, td {\n",
       "    padding: 5px;\n",
       "  }\n",
       "  th {\n",
       "    text-align: left;\n",
       "  }\n",
       "</style><div class='table-result-container'><table class='table-result'><thead style='background-color: white'><tr><th>path</th><th>name</th><th>size</th><th>modificationTime</th></tr></thead><tbody><tr><td>dbfs:/FileStore/tables/Baby_Names.csv</td><td>Baby_Names.csv</td><td>1316490</td><td>1716455484000</td></tr><tr><td>dbfs:/FileStore/tables/Book1-1.csv</td><td>Book1-1.csv</td><td>131</td><td>1727106499000</td></tr><tr><td>dbfs:/FileStore/tables/Book1.csv</td><td>Book1.csv</td><td>73</td><td>1727106073000</td></tr><tr><td>dbfs:/FileStore/tables/fact_averagecosts_dlm-1.gz</td><td>fact_averagecosts_dlm-1.gz</td><td>2219727</td><td>1741519789000</td></tr><tr><td>dbfs:/FileStore/tables/fact_averagecosts_dlm.gz</td><td>fact_averagecosts_dlm.gz</td><td>2219727</td><td>1741519580000</td></tr><tr><td>dbfs:/FileStore/tables/fact_transactions_dlm.gz</td><td>fact_transactions_dlm.gz</td><td>72346794</td><td>1741520450000</td></tr><tr><td>dbfs:/FileStore/tables/hier_clnd_dlm-1.gz</td><td>hier_clnd_dlm-1.gz</td><td>35281</td><td>1741519871000</td></tr><tr><td>dbfs:/FileStore/tables/hier_clnd_dlm.gz</td><td>hier_clnd_dlm.gz</td><td>35281</td><td>1741519581000</td></tr><tr><td>dbfs:/FileStore/tables/hier_hldy_dlm-1.gz</td><td>hier_hldy_dlm-1.gz</td><td>297</td><td>1741519871000</td></tr><tr><td>dbfs:/FileStore/tables/hier_hldy_dlm.gz</td><td>hier_hldy_dlm.gz</td><td>297</td><td>1741519582000</td></tr><tr><td>dbfs:/FileStore/tables/hier_invloc_dlm.gz</td><td>hier_invloc_dlm.gz</td><td>1047</td><td>1741519929000</td></tr><tr><td>dbfs:/FileStore/tables/hier_invstatus_dlm-1.gz</td><td>hier_invstatus_dlm-1.gz</td><td>2929</td><td>1741519929000</td></tr><tr><td>dbfs:/FileStore/tables/hier_invstatus_dlm.gz</td><td>hier_invstatus_dlm.gz</td><td>2929</td><td>1741519688000</td></tr><tr><td>dbfs:/FileStore/tables/hier_possite_dlm-1.gz</td><td>hier_possite_dlm-1.gz</td><td>1208</td><td>1741519984000</td></tr><tr><td>dbfs:/FileStore/tables/hier_possite_dlm.gz</td><td>hier_possite_dlm.gz</td><td>1208</td><td>1741519688000</td></tr><tr><td>dbfs:/FileStore/tables/hier_pricestate_dlm-1.gz</td><td>hier_pricestate_dlm-1.gz</td><td>113</td><td>1741519984000</td></tr><tr><td>dbfs:/FileStore/tables/hier_pricestate_dlm.gz</td><td>hier_pricestate_dlm.gz</td><td>113</td><td>1741519716000</td></tr><tr><td>dbfs:/FileStore/tables/hier_prod_dlm.gz</td><td>hier_prod_dlm.gz</td><td>27564</td><td>1741520019000</td></tr><tr><td>dbfs:/FileStore/tables/hier_rtlloc_dlm.gz</td><td>hier_rtlloc_dlm.gz</td><td>1215</td><td>1741520019000</td></tr><tr><td>dbfs:/FileStore/tables/tips.csv</td><td>tips.csv</td><td>8008</td><td>1727106842000</td></tr></tbody></table></div>"
      ]
     },
     "metadata": {
      "application/vnd.databricks.v1+output": {
       "addedWidgets": {},
       "aggData": [],
       "aggError": "",
       "aggOverflow": false,
       "aggSchema": [],
       "aggSeriesLimitReached": false,
       "aggType": "",
       "arguments": {},
       "columnCustomDisplayInfos": {},
       "data": [
        [
         "dbfs:/FileStore/tables/Baby_Names.csv",
         "Baby_Names.csv",
         1316490,
         1716455484000
        ],
        [
         "dbfs:/FileStore/tables/Book1-1.csv",
         "Book1-1.csv",
         131,
         1727106499000
        ],
        [
         "dbfs:/FileStore/tables/Book1.csv",
         "Book1.csv",
         73,
         1727106073000
        ],
        [
         "dbfs:/FileStore/tables/fact_averagecosts_dlm-1.gz",
         "fact_averagecosts_dlm-1.gz",
         2219727,
         1741519789000
        ],
        [
         "dbfs:/FileStore/tables/fact_averagecosts_dlm.gz",
         "fact_averagecosts_dlm.gz",
         2219727,
         1741519580000
        ],
        [
         "dbfs:/FileStore/tables/fact_transactions_dlm.gz",
         "fact_transactions_dlm.gz",
         72346794,
         1741520450000
        ],
        [
         "dbfs:/FileStore/tables/hier_clnd_dlm-1.gz",
         "hier_clnd_dlm-1.gz",
         35281,
         1741519871000
        ],
        [
         "dbfs:/FileStore/tables/hier_clnd_dlm.gz",
         "hier_clnd_dlm.gz",
         35281,
         1741519581000
        ],
        [
         "dbfs:/FileStore/tables/hier_hldy_dlm-1.gz",
         "hier_hldy_dlm-1.gz",
         297,
         1741519871000
        ],
        [
         "dbfs:/FileStore/tables/hier_hldy_dlm.gz",
         "hier_hldy_dlm.gz",
         297,
         1741519582000
        ],
        [
         "dbfs:/FileStore/tables/hier_invloc_dlm.gz",
         "hier_invloc_dlm.gz",
         1047,
         1741519929000
        ],
        [
         "dbfs:/FileStore/tables/hier_invstatus_dlm-1.gz",
         "hier_invstatus_dlm-1.gz",
         2929,
         1741519929000
        ],
        [
         "dbfs:/FileStore/tables/hier_invstatus_dlm.gz",
         "hier_invstatus_dlm.gz",
         2929,
         1741519688000
        ],
        [
         "dbfs:/FileStore/tables/hier_possite_dlm-1.gz",
         "hier_possite_dlm-1.gz",
         1208,
         1741519984000
        ],
        [
         "dbfs:/FileStore/tables/hier_possite_dlm.gz",
         "hier_possite_dlm.gz",
         1208,
         1741519688000
        ],
        [
         "dbfs:/FileStore/tables/hier_pricestate_dlm-1.gz",
         "hier_pricestate_dlm-1.gz",
         113,
         1741519984000
        ],
        [
         "dbfs:/FileStore/tables/hier_pricestate_dlm.gz",
         "hier_pricestate_dlm.gz",
         113,
         1741519716000
        ],
        [
         "dbfs:/FileStore/tables/hier_prod_dlm.gz",
         "hier_prod_dlm.gz",
         27564,
         1741520019000
        ],
        [
         "dbfs:/FileStore/tables/hier_rtlloc_dlm.gz",
         "hier_rtlloc_dlm.gz",
         1215,
         1741520019000
        ],
        [
         "dbfs:/FileStore/tables/tips.csv",
         "tips.csv",
         8008,
         1727106842000
        ]
       ],
       "datasetInfos": [],
       "dbfsResultPath": null,
       "isJsonSchema": true,
       "metadata": {},
       "overflow": false,
       "plotOptions": {
        "customPlotOptions": {},
        "displayType": "table",
        "pivotAggregation": null,
        "pivotColumns": null,
        "xColumns": null,
        "yColumns": null
       },
       "removedWidgets": [],
       "schema": [
        {
         "metadata": "{}",
         "name": "path",
         "type": "\"string\""
        },
        {
         "metadata": "{}",
         "name": "name",
         "type": "\"string\""
        },
        {
         "metadata": "{}",
         "name": "size",
         "type": "\"long\""
        },
        {
         "metadata": "{}",
         "name": "modificationTime",
         "type": "\"long\""
        }
       ],
       "type": "table"
      }
     },
     "output_type": "display_data"
    }
   ],
   "source": [
    "# Check files in Databricks FileStore/tables\n",
    "display(dbutils.fs.ls(\"/FileStore/tables/\"))\n"
   ]
  },
  {
   "cell_type": "code",
   "execution_count": 0,
   "metadata": {
    "application/vnd.databricks.v1+cell": {
     "cellMetadata": {
      "byteLimit": 2048000,
      "rowLimit": 10000
     },
     "inputWidgets": {},
     "nuid": "dbc38266-401d-43bc-91cb-8cec92b0c0bb",
     "showTitle": false,
     "tableResultSettingsMap": {},
     "title": ""
    }
   },
   "outputs": [
    {
     "output_type": "display_data",
     "data": {
      "text/html": [
       "<style scoped>\n",
       "  .table-result-container {\n",
       "    max-height: 300px;\n",
       "    overflow: auto;\n",
       "  }\n",
       "  table, th, td {\n",
       "    border: 1px solid black;\n",
       "    border-collapse: collapse;\n",
       "  }\n",
       "  th, td {\n",
       "    padding: 5px;\n",
       "  }\n",
       "  th {\n",
       "    text-align: left;\n",
       "  }\n",
       "</style><div class='table-result-container'><table class='table-result'><thead style='background-color: white'><tr><th>path</th><th>name</th><th>size</th><th>modificationTime</th></tr></thead><tbody><tr><td>dbfs:/FileStore/tables/Baby_Names.csv</td><td>Baby_Names.csv</td><td>1316490</td><td>1716455484000</td></tr><tr><td>dbfs:/FileStore/tables/Book1-1.csv</td><td>Book1-1.csv</td><td>131</td><td>1727106499000</td></tr><tr><td>dbfs:/FileStore/tables/Book1.csv</td><td>Book1.csv</td><td>73</td><td>1727106073000</td></tr><tr><td>dbfs:/FileStore/tables/fact_averagecosts_dlm-1.gz</td><td>fact_averagecosts_dlm-1.gz</td><td>2219727</td><td>1741519789000</td></tr><tr><td>dbfs:/FileStore/tables/fact_averagecosts_dlm.gz</td><td>fact_averagecosts_dlm.gz</td><td>2219727</td><td>1741519580000</td></tr><tr><td>dbfs:/FileStore/tables/fact_transactions_dlm.gz</td><td>fact_transactions_dlm.gz</td><td>72346794</td><td>1741520450000</td></tr><tr><td>dbfs:/FileStore/tables/hier_clnd_dlm-1.gz</td><td>hier_clnd_dlm-1.gz</td><td>35281</td><td>1741519871000</td></tr><tr><td>dbfs:/FileStore/tables/hier_clnd_dlm.gz</td><td>hier_clnd_dlm.gz</td><td>35281</td><td>1741519581000</td></tr><tr><td>dbfs:/FileStore/tables/hier_hldy_dlm-1.gz</td><td>hier_hldy_dlm-1.gz</td><td>297</td><td>1741519871000</td></tr><tr><td>dbfs:/FileStore/tables/hier_hldy_dlm.gz</td><td>hier_hldy_dlm.gz</td><td>297</td><td>1741519582000</td></tr><tr><td>dbfs:/FileStore/tables/hier_invloc_dlm.gz</td><td>hier_invloc_dlm.gz</td><td>1047</td><td>1741519929000</td></tr><tr><td>dbfs:/FileStore/tables/hier_invstatus_dlm-1.gz</td><td>hier_invstatus_dlm-1.gz</td><td>2929</td><td>1741519929000</td></tr><tr><td>dbfs:/FileStore/tables/hier_invstatus_dlm.gz</td><td>hier_invstatus_dlm.gz</td><td>2929</td><td>1741519688000</td></tr><tr><td>dbfs:/FileStore/tables/hier_possite_dlm-1.gz</td><td>hier_possite_dlm-1.gz</td><td>1208</td><td>1741519984000</td></tr><tr><td>dbfs:/FileStore/tables/hier_possite_dlm.gz</td><td>hier_possite_dlm.gz</td><td>1208</td><td>1741519688000</td></tr><tr><td>dbfs:/FileStore/tables/hier_pricestate_dlm-1.gz</td><td>hier_pricestate_dlm-1.gz</td><td>113</td><td>1741519984000</td></tr><tr><td>dbfs:/FileStore/tables/hier_pricestate_dlm.gz</td><td>hier_pricestate_dlm.gz</td><td>113</td><td>1741519716000</td></tr><tr><td>dbfs:/FileStore/tables/hier_prod_dlm.gz</td><td>hier_prod_dlm.gz</td><td>27564</td><td>1741520019000</td></tr><tr><td>dbfs:/FileStore/tables/hier_rtlloc_dlm.gz</td><td>hier_rtlloc_dlm.gz</td><td>1215</td><td>1741520019000</td></tr><tr><td>dbfs:/FileStore/tables/tips.csv</td><td>tips.csv</td><td>8008</td><td>1727106842000</td></tr></tbody></table></div>"
      ]
     },
     "metadata": {
      "application/vnd.databricks.v1+output": {
       "addedWidgets": {},
       "aggData": [],
       "aggError": "",
       "aggOverflow": false,
       "aggSchema": [],
       "aggSeriesLimitReached": false,
       "aggType": "",
       "arguments": {},
       "columnCustomDisplayInfos": {},
       "data": [
        [
         "dbfs:/FileStore/tables/Baby_Names.csv",
         "Baby_Names.csv",
         1316490,
         1716455484000
        ],
        [
         "dbfs:/FileStore/tables/Book1-1.csv",
         "Book1-1.csv",
         131,
         1727106499000
        ],
        [
         "dbfs:/FileStore/tables/Book1.csv",
         "Book1.csv",
         73,
         1727106073000
        ],
        [
         "dbfs:/FileStore/tables/fact_averagecosts_dlm-1.gz",
         "fact_averagecosts_dlm-1.gz",
         2219727,
         1741519789000
        ],
        [
         "dbfs:/FileStore/tables/fact_averagecosts_dlm.gz",
         "fact_averagecosts_dlm.gz",
         2219727,
         1741519580000
        ],
        [
         "dbfs:/FileStore/tables/fact_transactions_dlm.gz",
         "fact_transactions_dlm.gz",
         72346794,
         1741520450000
        ],
        [
         "dbfs:/FileStore/tables/hier_clnd_dlm-1.gz",
         "hier_clnd_dlm-1.gz",
         35281,
         1741519871000
        ],
        [
         "dbfs:/FileStore/tables/hier_clnd_dlm.gz",
         "hier_clnd_dlm.gz",
         35281,
         1741519581000
        ],
        [
         "dbfs:/FileStore/tables/hier_hldy_dlm-1.gz",
         "hier_hldy_dlm-1.gz",
         297,
         1741519871000
        ],
        [
         "dbfs:/FileStore/tables/hier_hldy_dlm.gz",
         "hier_hldy_dlm.gz",
         297,
         1741519582000
        ],
        [
         "dbfs:/FileStore/tables/hier_invloc_dlm.gz",
         "hier_invloc_dlm.gz",
         1047,
         1741519929000
        ],
        [
         "dbfs:/FileStore/tables/hier_invstatus_dlm-1.gz",
         "hier_invstatus_dlm-1.gz",
         2929,
         1741519929000
        ],
        [
         "dbfs:/FileStore/tables/hier_invstatus_dlm.gz",
         "hier_invstatus_dlm.gz",
         2929,
         1741519688000
        ],
        [
         "dbfs:/FileStore/tables/hier_possite_dlm-1.gz",
         "hier_possite_dlm-1.gz",
         1208,
         1741519984000
        ],
        [
         "dbfs:/FileStore/tables/hier_possite_dlm.gz",
         "hier_possite_dlm.gz",
         1208,
         1741519688000
        ],
        [
         "dbfs:/FileStore/tables/hier_pricestate_dlm-1.gz",
         "hier_pricestate_dlm-1.gz",
         113,
         1741519984000
        ],
        [
         "dbfs:/FileStore/tables/hier_pricestate_dlm.gz",
         "hier_pricestate_dlm.gz",
         113,
         1741519716000
        ],
        [
         "dbfs:/FileStore/tables/hier_prod_dlm.gz",
         "hier_prod_dlm.gz",
         27564,
         1741520019000
        ],
        [
         "dbfs:/FileStore/tables/hier_rtlloc_dlm.gz",
         "hier_rtlloc_dlm.gz",
         1215,
         1741520019000
        ],
        [
         "dbfs:/FileStore/tables/tips.csv",
         "tips.csv",
         8008,
         1727106842000
        ]
       ],
       "datasetInfos": [],
       "dbfsResultPath": null,
       "isJsonSchema": true,
       "metadata": {},
       "overflow": false,
       "plotOptions": {
        "customPlotOptions": {},
        "displayType": "table",
        "pivotAggregation": null,
        "pivotColumns": null,
        "xColumns": null,
        "yColumns": null
       },
       "removedWidgets": [],
       "schema": [
        {
         "metadata": "{}",
         "name": "path",
         "type": "\"string\""
        },
        {
         "metadata": "{}",
         "name": "name",
         "type": "\"string\""
        },
        {
         "metadata": "{}",
         "name": "size",
         "type": "\"long\""
        },
        {
         "metadata": "{}",
         "name": "modificationTime",
         "type": "\"long\""
        }
       ],
       "type": "table"
      }
     },
     "output_type": "display_data"
    },
    {
     "output_type": "stream",
     "name": "stdout",
     "output_type": "stream",
     "text": [
      "root\n |-- order_id: long (nullable = true)\n |-- line_id: integer (nullable = true)\n |-- type: string (nullable = true)\n |-- dt: timestamp (nullable = true)\n |-- pos_site_id: string (nullable = true)\n |-- sku_id: string (nullable = true)\n |-- fscldt_id: integer (nullable = true)\n |-- price_substate_id: string (nullable = true)\n |-- sales_units: integer (nullable = true)\n |-- sales_dollars: double (nullable = true)\n |-- discount_dollars: double (nullable = true)\n |-- original_order_id: long (nullable = true)\n |-- original_line_id: integer (nullable = true)\n\n+---------+-------+----+-------------------+-----------+----------+---------+-----------------+-----------+-------------+----------------+-----------------+----------------+\n| order_id|line_id|type|                 dt|pos_site_id|    sku_id|fscldt_id|price_substate_id|sales_units|sales_dollars|discount_dollars|original_order_id|original_line_id|\n+---------+-------+----+-------------------+-----------+----------+---------+-----------------+-----------+-------------+----------------+-----------------+----------------+\n|164087401|      2|Sale|2016-01-31 06:17:01|    CATMAIN|2668940801| 20160131|               FP|          1|        58.95|             0.0|             null|            null|\n|164087409|      4|Sale|2016-01-31 06:17:25|    CATMAIN|2920920601| 20160131|               FP|          1|        49.95|             0.0|             null|            null|\n|164087440|      2|Sale|2016-01-31 06:19:28|   INETMAIN|0695690000| 20160131|               FP|          2|         37.9|             0.0|             null|            null|\n|164087469|      2|Sale|2016-01-31 07:03:00|    CATMAIN|0505490000| 20160131|               FP|          1|         45.0|             0.0|             null|            null|\n|164087472|      2|Sale|2016-01-31 07:07:36|    CATMAIN|2872180801| 20160131|               FP|          1|        98.95|             0.0|             null|            null|\n+---------+-------+----+-------------------+-----------+----------+---------+-----------------+-----------+-------------+----------------+-----------------+----------------+\nonly showing top 5 rows\n\n"
     ]
    }
   ],
   "source": [
    "from pyspark.sql import SparkSession\n",
    "import gzip\n",
    "\n",
    "# Creating Spark session\n",
    "spark = SparkSession.builder.appName(\"DataProcessing\").getOrCreate()\n",
    "\n",
    "# Define the path where files are stored in Databricks FileStore in our case its FileStore/tables/\n",
    "databricks_data_path = \"dbfs:/FileStore/tables/\"\n",
    "\n",
    "# List all uploaded files, this may include other files previous uploaded to the tables folder\n",
    "files = dbutils.fs.ls(databricks_data_path)\n",
    "display(files)  # Verifying the file paths\n",
    "\n",
    "# Read a sample gzip file (fact.transactions)\n",
    "sample_file = \"dbfs:/FileStore/tables/fact_transactions_dlm.gz\"\n",
    "\n",
    "\n",
    "# Load gzip file into a DataFrame\n",
    "df = spark.read.option(\"delimiter\", \"|\").csv(sample_file, header=True, inferSchema=True)\n",
    "\n",
    "# Show the DataFrame structure\n",
    "df.printSchema()\n",
    "#df.show() can be used to check whether the data is properly populated and proper schema is defined or not in our case we are querying transactions table\n",
    "df.show(5)\n"
   ]
  },
  {
   "cell_type": "code",
   "execution_count": 0,
   "metadata": {
    "application/vnd.databricks.v1+cell": {
     "cellMetadata": {
      "byteLimit": 2048000,
      "implicitDf": true,
      "rowLimit": 10000
     },
     "inputWidgets": {},
     "nuid": "e8f8e146-d638-4f53-88c4-3818ab3366a5",
     "showTitle": false,
     "tableResultSettingsMap": {},
     "title": ""
    }
   },
   "outputs": [
    {
     "output_type": "display_data",
     "data": {
      "text/html": [
       "<style scoped>\n",
       "  .table-result-container {\n",
       "    max-height: 300px;\n",
       "    overflow: auto;\n",
       "  }\n",
       "  table, th, td {\n",
       "    border: 1px solid black;\n",
       "    border-collapse: collapse;\n",
       "  }\n",
       "  th, td {\n",
       "    padding: 5px;\n",
       "  }\n",
       "  th {\n",
       "    text-align: left;\n",
       "  }\n",
       "</style><div class='table-result-container'><table class='table-result'><thead style='background-color: white'><tr></tr></thead><tbody></tbody></table></div>"
      ]
     },
     "metadata": {
      "application/vnd.databricks.v1+output": {
       "addedWidgets": {},
       "aggData": [],
       "aggError": "",
       "aggOverflow": false,
       "aggSchema": [],
       "aggSeriesLimitReached": false,
       "aggType": "",
       "arguments": {},
       "columnCustomDisplayInfos": {},
       "data": [],
       "datasetInfos": [],
       "dbfsResultPath": null,
       "isJsonSchema": true,
       "metadata": {},
       "overflow": false,
       "plotOptions": {
        "customPlotOptions": {},
        "displayType": "table",
        "pivotAggregation": null,
        "pivotColumns": null,
        "xColumns": null,
        "yColumns": null
       },
       "removedWidgets": [],
       "schema": [],
       "type": "table"
      }
     },
     "output_type": "display_data"
    }
   ],
   "source": [
    "%sql\n",
    "-- Create a database for the project\n",
    "CREATE DATABASE IF NOT EXISTS retail_dw;\n",
    "USE retail_dw;\n"
   ]
  },
  {
   "cell_type": "code",
   "execution_count": 0,
   "metadata": {
    "application/vnd.databricks.v1+cell": {
     "cellMetadata": {
      "byteLimit": 2048000,
      "rowLimit": 10000
     },
     "inputWidgets": {},
     "nuid": "091e8eb3-50ad-4be4-93b4-5646bf18b150",
     "showTitle": false,
     "tableResultSettingsMap": {},
     "title": ""
    }
   },
   "outputs": [
    {
     "output_type": "stream",
     "name": "stdout",
     "output_type": "stream",
     "text": [
      "+---------+-------+----+-------------------+-----------+----------+---------+-----------------+-----------+-------------+----------------+-----------------+----------------+\n| order_id|line_id|type|                 dt|pos_site_id|    sku_id|fscldt_id|price_substate_id|sales_units|sales_dollars|discount_dollars|original_order_id|original_line_id|\n+---------+-------+----+-------------------+-----------+----------+---------+-----------------+-----------+-------------+----------------+-----------------+----------------+\n|164087401|      2|Sale|2016-01-31T06:17:01|    CATMAIN|2668940801| 20160131|               FP|          1|        58.95|               0|             null|            null|\n|164087409|      4|Sale|2016-01-31T06:17:25|    CATMAIN|2920920601| 20160131|               FP|          1|        49.95|               0|             null|            null|\n|164087440|      2|Sale|2016-01-31T06:19:28|   INETMAIN|0695690000| 20160131|               FP|          2|         37.9|               0|             null|            null|\n|164087469|      2|Sale|2016-01-31T07:03:00|    CATMAIN|0505490000| 20160131|               FP|          1|           45|               0|             null|            null|\n|164087472|      2|Sale|2016-01-31T07:07:36|    CATMAIN|2872180801| 20160131|               FP|          1|        98.95|               0|             null|            null|\n+---------+-------+----+-------------------+-----------+----------+---------+-----------------+-----------+-------------+----------------+-----------------+----------------+\n\n"
     ]
    }
   ],
   "source": [
    "# Defining path for fact_transactions_dlm table\n",
    "transactions_path = \"dbfs:/FileStore/tables/fact_transactions_dlm.gz\"\n",
    "\n",
    "# loading data into a DataFrame\n",
    "df_transactions = (\n",
    "    spark.read.option(\"delimiter\", \"|\").option(\"header\", True).csv(transactions_path)\n",
    ")\n",
    "\n",
    "# Creating Bronze table\n",
    "df_transactions.write.mode(\"overwrite\").saveAsTable(\"retail_dw.bronze_transactions\")\n",
    "\n",
    "# Verifying\n",
    "spark.sql(\"SELECT * FROM retail_dw.bronze_transactions LIMIT 5\").show()\n"
   ]
  },
  {
   "cell_type": "code",
   "execution_count": 0,
   "metadata": {
    "application/vnd.databricks.v1+cell": {
     "cellMetadata": {
      "byteLimit": 2048000,
      "rowLimit": 10000
     },
     "inputWidgets": {},
     "nuid": "92832256-ef90-44d3-92bd-165aa14b2cc4",
     "showTitle": false,
     "tableResultSettingsMap": {},
     "title": ""
    }
   },
   "outputs": [
    {
     "output_type": "stream",
     "name": "stdout",
     "output_type": "stream",
     "text": [
      "+---------+----------+-------------------------+-----------------------+\n|fscldt_id|    sku_id|average_unit_standardcost|average_unit_landedcost|\n+---------+----------+-------------------------+-----------------------+\n| 20160131|0174410000|                    10.06|                  10.06|\n| 20160201|0174410000|                    10.06|                  10.06|\n| 20160202|0174410000|                    10.06|                  10.06|\n| 20160203|0174410000|                    10.06|                  10.06|\n| 20160204|0174410000|                    10.06|                  10.06|\n+---------+----------+-------------------------+-----------------------+\n\n"
     ]
    }
   ],
   "source": [
    "# Defining path for fact_averagecosts_dlm table\n",
    "averagecosts_path = \"dbfs:/FileStore/tables/fact_averagecosts_dlm.gz\"\n",
    "\n",
    "# Loading data into a DataFrame\n",
    "df_averagecosts = (\n",
    "    spark.read.option(\"delimiter\", \"|\").option(\"header\", True).csv(averagecosts_path)\n",
    ")\n",
    "\n",
    "# Creating Bronze table\n",
    "df_averagecosts.write.mode(\"overwrite\").saveAsTable(\"retail_dw.bronze_averagecosts\")\n",
    "\n",
    "# Verifying\n",
    "spark.sql(\"SELECT * FROM retail_dw.bronze_averagecosts LIMIT 5\").show()\n"
   ]
  },
  {
   "cell_type": "code",
   "execution_count": 0,
   "metadata": {
    "application/vnd.databricks.v1+cell": {
     "cellMetadata": {
      "byteLimit": 2048000,
      "rowLimit": 10000
     },
     "inputWidgets": {},
     "nuid": "e084cc5d-f247-4136-9b18-d4250cd6182b",
     "showTitle": false,
     "tableResultSettingsMap": {},
     "title": ""
    }
   },
   "outputs": [
    {
     "output_type": "stream",
     "name": "stdout",
     "output_type": "stream",
     "text": [
      "✅ Loaded bronze_averagecosts into Databricks\n✅ Loaded bronze_clnd into Databricks\n✅ Loaded bronze_hldy into Databricks\n✅ Loaded bronze_invloc into Databricks\n✅ Loaded bronze_invstatus into Databricks\n✅ Loaded bronze_possite into Databricks\n✅ Loaded bronze_pricestate into Databricks\n✅ Loaded bronze_prod into Databricks\n✅ Loaded bronze_rtlloc into Databricks\n"
     ]
    }
   ],
   "source": [
    "# Defining the file names for dimension table\n",
    "file_mappings = {\n",
    "    \"bronze_averagecosts\": \"dbfs:/FileStore/tables/fact_averagecosts_dlm.gz\",\n",
    "    \"bronze_clnd\": \"dbfs:/FileStore/tables/hier_clnd_dlm.gz\",\n",
    "    \"bronze_hldy\": \"dbfs:/FileStore/tables/hier_hldy_dlm.gz\",\n",
    "    \"bronze_invloc\": \"dbfs:/FileStore/tables/hier_invloc_dlm.gz\",\n",
    "    \"bronze_invstatus\": \"dbfs:/FileStore/tables/hier_invstatus_dlm.gz\",\n",
    "    \"bronze_possite\": \"dbfs:/FileStore/tables/hier_possite_dlm.gz\",\n",
    "    \"bronze_pricestate\": \"dbfs:/FileStore/tables/hier_pricestate_dlm.gz\",\n",
    "    \"bronze_prod\": \"dbfs:/FileStore/tables/hier_prod_dlm.gz\",\n",
    "    \"bronze_rtlloc\": \"dbfs:/FileStore/tables/hier_rtlloc_dlm.gz\",\n",
    "}\n",
    "\n",
    "# Looping through files and load them\n",
    "for table_name, file_path in file_mappings.items():\n",
    "    df = spark.read.option(\"delimiter\", \"|\").option(\"header\", True).csv(file_path)\n",
    "    df.write.mode(\"overwrite\").saveAsTable(f\"retail_dw.{table_name}\")\n",
    "    print(f\"✅ Loaded {table_name} into Databricks\")\n"
   ]
  },
  {
   "cell_type": "code",
   "execution_count": 0,
   "metadata": {
    "application/vnd.databricks.v1+cell": {
     "cellMetadata": {
      "byteLimit": 2048000,
      "rowLimit": 10000
     },
     "inputWidgets": {},
     "nuid": "093b7fb5-b894-42b5-b456-357b48d89dcb",
     "showTitle": false,
     "tableResultSettingsMap": {},
     "title": ""
    }
   },
   "outputs": [
    {
     "output_type": "stream",
     "name": "stdout",
     "output_type": "stream",
     "text": [
      "+---------+-------+----+-------------------+-----------+----------+---------+-----------------+-----------+-------------+----------------+-----------------+----------------+\n| order_id|line_id|type|                 dt|pos_site_id|    sku_id|fscldt_id|price_substate_id|sales_units|sales_dollars|discount_dollars|original_order_id|original_line_id|\n+---------+-------+----+-------------------+-----------+----------+---------+-----------------+-----------+-------------+----------------+-----------------+----------------+\n|164087401|      2|Sale|2016-01-31T06:17:01|    CATMAIN|2668940801| 20160131|               FP|          1|        58.95|             0.0|             null|            null|\n|164087409|      4|Sale|2016-01-31T06:17:25|    CATMAIN|2920920601| 20160131|               FP|          1|        49.95|             0.0|             null|            null|\n|164087440|      2|Sale|2016-01-31T06:19:28|   INETMAIN|0695690000| 20160131|               FP|          2|         37.9|             0.0|             null|            null|\n|164087469|      2|Sale|2016-01-31T07:03:00|    CATMAIN|0505490000| 20160131|               FP|          1|         45.0|             0.0|             null|            null|\n|164087472|      2|Sale|2016-01-31T07:07:36|    CATMAIN|2872180801| 20160131|               FP|          1|        98.95|             0.0|             null|            null|\n+---------+-------+----+-------------------+-----------+----------+---------+-----------------+-----------+-------------+----------------+-----------------+----------------+\n\n"
     ]
    }
   ],
   "source": [
    "from pyspark.sql.functions import col\n",
    "\n",
    "# Reading Bronze table for transaction\n",
    "df_transactions = spark.table(\"retail_dw.bronze_transactions\")\n",
    "\n",
    "# Cleaning data: Droping nulls and ensuring correct datatypes\n",
    "df_transactions_clean = (\n",
    "    df_transactions\n",
    "    .dropna(subset=[\"order_id\", \"line_id\", \"sku_id\", \"pos_site_id\", \"fscldt_id\"])  # Remove nulls in key fields\n",
    "    .withColumn(\"line_id\", col(\"line_id\").cast(\"int\"))\n",
    "    .withColumn(\"sales_units\", col(\"sales_units\").cast(\"int\"))\n",
    "    .withColumn(\"sales_dollars\", col(\"sales_dollars\").cast(\"double\"))\n",
    "    .withColumn(\"discount_dollars\", col(\"discount_dollars\").cast(\"double\"))\n",
    ")\n",
    "\n",
    "# Saving as Silver Table\n",
    "df_transactions_clean.write.mode(\"overwrite\").saveAsTable(\"retail_dw.silver_transactions\")\n",
    "\n",
    "# Verifying\n",
    "spark.sql(\"SELECT * FROM retail_dw.silver_transactions LIMIT 5\").show()\n"
   ]
  },
  {
   "cell_type": "code",
   "execution_count": 0,
   "metadata": {
    "application/vnd.databricks.v1+cell": {
     "cellMetadata": {
      "byteLimit": 2048000,
      "rowLimit": 10000
     },
     "inputWidgets": {},
     "nuid": "2ca41d56-8d06-47eb-8137-d8cd6942258a",
     "showTitle": false,
     "tableResultSettingsMap": {},
     "title": ""
    }
   },
   "outputs": [
    {
     "output_type": "stream",
     "name": "stdout",
     "output_type": "stream",
     "text": [
      "+---------+----------+-------------------------+-----------------------+\n|fscldt_id|    sku_id|average_unit_standardcost|average_unit_landedcost|\n+---------+----------+-------------------------+-----------------------+\n| 20160131|0174410000|                    10.06|                  10.06|\n| 20160201|0174410000|                    10.06|                  10.06|\n| 20160202|0174410000|                    10.06|                  10.06|\n| 20160203|0174410000|                    10.06|                  10.06|\n| 20160204|0174410000|                    10.06|                  10.06|\n+---------+----------+-------------------------+-----------------------+\n\n"
     ]
    }
   ],
   "source": [
    "# Reading  Bronze table for averagecosts\n",
    "df_averagecosts = spark.table(\"retail_dw.bronze_averagecosts\")\n",
    "\n",
    "# Cleaning data: Droping nulls and ensuring correct datatypes\n",
    "df_averagecosts_clean = (\n",
    "    df_averagecosts\n",
    "    .dropna(subset=[\"fscldt_id\", \"sku_id\"])\n",
    "    .withColumn(\"average_unit_standardcost\", col(\"average_unit_standardcost\").cast(\"double\"))\n",
    "    .withColumn(\"average_unit_landedcost\", col(\"average_unit_landedcost\").cast(\"double\"))\n",
    ")\n",
    "\n",
    "# Saving as Silver Table\n",
    "df_averagecosts_clean.write.mode(\"overwrite\").saveAsTable(\"retail_dw.silver_averagecosts\")\n",
    "\n",
    "# Verifying\n",
    "spark.sql(\"SELECT * FROM retail_dw.silver_averagecosts LIMIT 5\").show()\n"
   ]
  },
  {
   "cell_type": "code",
   "execution_count": 0,
   "metadata": {
    "application/vnd.databricks.v1+cell": {
     "cellMetadata": {
      "byteLimit": 2048000,
      "rowLimit": 10000
     },
     "inputWidgets": {},
     "nuid": "25630e77-c530-42f2-aeb7-e0a040a88a4b",
     "showTitle": false,
     "tableResultSettingsMap": {},
     "title": ""
    }
   },
   "outputs": [
    {
     "output_type": "stream",
     "name": "stdout",
     "output_type": "stream",
     "text": [
      "+----------+--------------------+----------+--------------------+-------+--------------------+---------+-------------------+------+--------------+-------+----------+\n|    sku_id|           sku_label|stylclr_id|       stylclr_label|styl_id|          styl_label|subcat_id|       subcat_label|cat_id|     cat_label|dept_id|dept_label|\n+----------+--------------------+----------+--------------------+-------+--------------------+---------+-------------------+------+--------------+-------+----------+\n|2759930501|ESSENTIAL LOUNGE ...|   2759930|ESSENTIAL LOUNGE ...|  27599|ESSENTIAL LOUNGE TOP|      405|               TOPS|  1000|          TOPS|   2000|   APPAREL|\n|0806490000|SCENTUAL SUEDES B...|   0806490|SCENTUAL SUEDES B...|  08064|SCENTUAL SUEDES B...|      526|FRAGRANCE / PERFUME|  1017|     FRAGRANCE|   2003|    BEAUTY|\n|0723420000|GLAMOLASH MASCARA...|   0723420|GLAMOLASH MASCARA...|  07234|GLAMOLASH MASCARA...|      532|          COSMETICS|  1019|        MAKEUP|   2003|    BEAUTY|\n|0366990000|HOLIDAY DIFFUSER ...|   0366990|HOLIDAY DIFFUSER N/A|  03669|    HOLIDAY DIFFUSER|      551|     HOME FRAGRANCE|  1029|HOME FRAGRANCE|   2002|      HOME|\n|2259240601|HALF MOON BAY TOP...|   2259240|HALF MOON BAY TOP...|  22592|   HALF MOON BAY TOP|      405|               TOPS|  1000|          TOPS|   2000|   APPAREL|\n+----------+--------------------+----------+--------------------+-------+--------------------+---------+-------------------+------+--------------+-------+----------+\n\n"
     ]
    }
   ],
   "source": [
    "# Reading Bronze table for prod\n",
    "df_prod = spark.table(\"retail_dw.bronze_prod\")\n",
    "\n",
    "# Selecting relevant columns and removing duplicates\n",
    "df_prod_clean = df_prod.select(\n",
    "    \"sku_id\", \"sku_label\", \"stylclr_id\", \"stylclr_label\", \"styl_id\", \"styl_label\",\n",
    "    \"subcat_id\", \"subcat_label\", \"cat_id\", \"cat_label\", \"dept_id\", \"dept_label\"\n",
    ").dropDuplicates()\n",
    "\n",
    "# Saving as Silver Table\n",
    "df_prod_clean.write.mode(\"overwrite\").saveAsTable(\"retail_dw.silver_prod\")\n",
    "\n",
    "# Verifying\n",
    "spark.sql(\"SELECT * FROM retail_dw.silver_prod LIMIT 5\").show()\n"
   ]
  },
  {
   "cell_type": "code",
   "execution_count": 0,
   "metadata": {
    "application/vnd.databricks.v1+cell": {
     "cellMetadata": {
      "byteLimit": 2048000,
      "rowLimit": 10000
     },
     "inputWidgets": {},
     "nuid": "e4689ca0-be14-4785-b632-17ef9582291d",
     "showTitle": false,
     "tableResultSettingsMap": {},
     "title": ""
    }
   },
   "outputs": [
    {
     "output_type": "stream",
     "name": "stdout",
     "output_type": "stream",
     "text": [
      "+-------+----------------+----------+-------------+-------+----------+\n|site_id|      site_label|subchnl_id|subchnl_label|chnl_id|chnl_label|\n+-------+----------------+----------+-------------+-------+----------+\n|    118|  Evergreen Walk|    RTLPOS|   Retail POS| RTLPOS|Retail POS|\n|    150|Kierland Commons|    RTLPOS|   Retail POS| RTLPOS|Retail POS|\n|CATMAIN|    Catalog Main|   CATMAIN| Catalog Main|    CAT|   Catalog|\n|    173|   Paddock Shops|    RTLPOS|   Retail POS| RTLPOS|Retail POS|\n|    137|Greenway Station|    RTLPOS|   Retail POS| RTLPOS|Retail POS|\n+-------+----------------+----------+-------------+-------+----------+\n\n"
     ]
    }
   ],
   "source": [
    "# Reading Bronze table for possite\n",
    "df_possite = spark.table(\"retail_dw.bronze_possite\")\n",
    "\n",
    "# Removing duplicates\n",
    "df_possite_clean = df_possite.dropDuplicates()\n",
    "\n",
    "# Saving as Silver Table\n",
    "df_possite_clean.write.mode(\"overwrite\").saveAsTable(\"retail_dw.silver_possite\")\n",
    "\n",
    "# Verifying\n",
    "spark.sql(\"SELECT * FROM retail_dw.silver_possite LIMIT 5\").show()\n"
   ]
  },
  {
   "cell_type": "code",
   "execution_count": 0,
   "metadata": {
    "application/vnd.databricks.v1+cell": {
     "cellMetadata": {
      "byteLimit": 2048000,
      "rowLimit": 10000
     },
     "inputWidgets": {},
     "nuid": "8dce7329-d3a1-44a2-a21d-9f322fa1b56e",
     "showTitle": false,
     "tableResultSettingsMap": {},
     "title": ""
    }
   },
   "outputs": [
    {
     "output_type": "stream",
     "name": "stdout",
     "output_type": "stream",
     "text": [
      "+------------+------------+\n|     hldy_id|  hldy_label|\n+------------+------------+\n|Memorial_Day|Memorial Day|\n| Mothers_Day|Mother's Day|\n|   Halloween|   Halloween|\n|Election_Day|Election Day|\n|Columbus_Day|Columbus Day|\n+------------+------------+\n\n"
     ]
    }
   ],
   "source": [
    "# Reading Bronze table for hldy\n",
    "df_hldy = spark.table(\"retail_dw.bronze_hldy\")\n",
    "\n",
    "# Removing duplicates\n",
    "df_hldy_clean = df_hldy.dropDuplicates()\n",
    "\n",
    "# Saving as Silver Table\n",
    "df_hldy_clean.write.mode(\"overwrite\").saveAsTable(\"retail_dw.silver_hldy\")\n",
    "\n",
    "# Verifying\n",
    "spark.sql(\"SELECT * FROM retail_dw.silver_hldy LIMIT 5\").show()\n"
   ]
  },
  {
   "cell_type": "markdown",
   "metadata": {
    "application/vnd.databricks.v1+cell": {
     "cellMetadata": {
      "byteLimit": 2048000,
      "rowLimit": 10000
     },
     "inputWidgets": {},
     "nuid": "2a2771ea-7200-4c99-8ac2-2a721ae246fd",
     "showTitle": false,
     "tableResultSettingsMap": {},
     "title": ""
    }
   },
   "source": [
    "Why Normalization is Not Needed for Certain Tables\n",
    "\n",
    "    hier.invloc (Inventory Locations) – No Normalization Needed\n",
    "        These locations are not referenced in fact tables, meaning they are not directly involved in transactional data processing.\n",
    "\n",
    "    hier.rtlloc (Retail Locations) – No Normalization Needed\n",
    "        Similar to inventory locations, these are not linked to fact tables, so normalization won’t improve efficiency.\n",
    "\n",
    "    hier.invstatus (Inventory Status) – No Normalization Needed\n",
    "        Inventory status is not used for transactions, making normalization unnecessary.\n"
   ]
  },
  {
   "cell_type": "code",
   "execution_count": 0,
   "metadata": {
    "application/vnd.databricks.v1+cell": {
     "cellMetadata": {
      "byteLimit": 2048000,
      "rowLimit": 10000
     },
     "inputWidgets": {},
     "nuid": "d3f857dd-3dce-47ec-923a-a86275655ca6",
     "showTitle": false,
     "tableResultSettingsMap": {},
     "title": ""
    }
   },
   "outputs": [
    {
     "output_type": "stream",
     "name": "stdout",
     "output_type": "stream",
     "text": [
      "+-----------+----------+---------+-----------------+----+-----------------+-------------------+----------------------+\n|pos_site_id|    sku_id|fscldt_id|price_substate_id|type|total_sales_units|total_sales_dollars|total_discount_dollars|\n+-----------+----------+---------+-----------------+----+-----------------+-------------------+----------------------+\n|        129|0174450000| 20160201|               FP|Sale|                1|              28.75|                   0.0|\n|    CATMAIN|0403020000| 20160201|               FP|Sale|                8| 183.59999999999997|                   0.0|\n|    CATMAIN|1085190075| 20160202|               FP|Sale|                1|               75.0|                   0.0|\n|        132|0693790000| 20160202|              MD3|Sale|                3| 38.910000000000004|                   0.0|\n|    CATMAIN|2785131701| 20160203|               FP|Sale|                1|              69.95|                   0.0|\n+-----------+----------+---------+-----------------+----+-----------------+-------------------+----------------------+\n\n"
     ]
    }
   ],
   "source": [
    "from pyspark.sql.functions import sum\n",
    "\n",
    "# Reading clean transactions data\n",
    "df_sales = spark.table(\"retail_dw.silver_transactions\")\n",
    "\n",
    "# Aggregating to create weekly sales summary\n",
    "df_weekly_sales = (\n",
    "    df_sales\n",
    "    .groupBy(\"pos_site_id\", \"sku_id\", \"fscldt_id\", \"price_substate_id\", \"type\")\n",
    "    .agg(\n",
    "        sum(\"sales_units\").alias(\"total_sales_units\"),\n",
    "        sum(\"sales_dollars\").alias(\"total_sales_dollars\"),\n",
    "        sum(\"discount_dollars\").alias(\"total_discount_dollars\")\n",
    "    )\n",
    ")\n",
    "\n",
    "# Saving as Gold Table\n",
    "df_weekly_sales.write.mode(\"overwrite\").saveAsTable(\"retail_dw.mview_weekly_sales\")\n",
    "\n",
    "# Verifying the table\n",
    "spark.sql(\"SELECT * FROM retail_dw.mview_weekly_sales LIMIT 5\").show()\n"
   ]
  },
  {
   "cell_type": "code",
   "execution_count": 0,
   "metadata": {
    "application/vnd.databricks.v1+cell": {
     "cellMetadata": {
      "byteLimit": 2048000,
      "rowLimit": 10000
     },
     "inputWidgets": {},
     "nuid": "961f7183-b587-4448-8bc4-5650528d9a95",
     "showTitle": false,
     "tableResultSettingsMap": {},
     "title": ""
    }
   },
   "outputs": [
    {
     "output_type": "stream",
     "name": "stdout",
     "output_type": "stream",
     "text": [
      "+-----------+----------+---------+-----------------+----+-----------------+-------------------+----------------------+\n|pos_site_id|    sku_id|fscldt_id|price_substate_id|type|total_sales_units|total_sales_dollars|total_discount_dollars|\n+-----------+----------+---------+-----------------+----+-----------------+-------------------+----------------------+\n|    INETOUT|2AG3220601| 20200423|               FP|Sale|                5|              100.0|                   0.0|\n|    INETOUT|2BT1320701| 20200423|               FP|Sale|                4|               80.0|                   0.0|\n|    INETOUT|2CG3330701| 20200423|              MD3|Sale|                1|              19.97|                   0.0|\n|    CATMAIN|0882281000| 20200423|               FP|Sale|                1|               22.0|                   0.0|\n|    INETOUT|2920940601| 20200423|               FP|Sale|                1|               20.0|                   0.0|\n+-----------+----------+---------+-----------------+----+-----------------+-------------------+----------------------+\n\n"
     ]
    }
   ],
   "source": [
    "from pyspark.sql.functions import max\n",
    "\n",
    "# Getting last processed fiscal date from mview_weekly_sales\n",
    "last_processed_date = spark.sql(\"SELECT MAX(fscldt_id) FROM retail_dw.mview_weekly_sales\").collect()[0][0]\n",
    "\n",
    "# Reading only new transactions since last processed date\n",
    "df_latest_sales = spark.sql(f\"\"\"\n",
    "    SELECT * FROM retail_dw.silver_transactions\n",
    "    WHERE fscldt_id > '{last_processed_date}'\n",
    "\"\"\")\n",
    "\n",
    "# Aggregating new sales data\n",
    "df_new_aggregates = (\n",
    "    df_latest_sales\n",
    "    .groupBy(\"pos_site_id\", \"sku_id\", \"fscldt_id\", \"price_substate_id\", \"type\")\n",
    "    .agg(\n",
    "        sum(\"sales_units\").alias(\"total_sales_units\"),\n",
    "        sum(\"sales_dollars\").alias(\"total_sales_dollars\"),\n",
    "        sum(\"discount_dollars\").alias(\"total_discount_dollars\")\n",
    "    )\n",
    ")\n",
    "\n",
    "# Merging new aggregates with existing data\n",
    "df_final = df_new_aggregates.union(spark.table(\"retail_dw.mview_weekly_sales\")).dropDuplicates()\n",
    "\n",
    "# Overwriting the Gold table with updated data\n",
    "df_final.write.mode(\"overwrite\").saveAsTable(\"retail_dw.mview_weekly_sales\")\n",
    "\n",
    "# Verifying\n",
    "spark.sql(\"SELECT * FROM retail_dw.mview_weekly_sales ORDER BY fscldt_id DESC LIMIT 5\").show()\n"
   ]
  }
 ],
 "metadata": {
  "application/vnd.databricks.v1+notebook": {
   "computePreferences": null,
   "dashboards": [],
   "environmentMetadata": {
    "base_environment": "",
    "client": "1"
   },
   "language": "python",
   "notebookMetadata": {
    "mostRecentlyExecutedCommandWithImplicitDF": {
     "commandId": 4373329385318953,
     "dataframes": [
      "_sqldf"
     ]
    },
    "pythonIndentUnit": 4
   },
   "notebookName": "gsyn_data_engineer_task",
   "widgets": {}
  }
 },
 "nbformat": 4,
 "nbformat_minor": 0
}
